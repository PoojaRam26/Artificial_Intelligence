{
 "cells": [
  {
   "cell_type": "code",
   "execution_count": 1,
   "metadata": {},
   "outputs": [],
   "source": [
    "from sklearn import datasets   #importing datsets from sklearn \n",
    "import pandas as pd #it is used for data analysis and data maniulation\n",
    "import matplotlib.pyplot as plt #used for plotting data\n",
    "import numpy as np # used for solving mathematical problems\n",
    "from sklearn.datasets import load_iris#loading data of irsi flower\n",
    "from sklearn.model_selection import train_test_split\n",
    "from tensorflow import keras"
   ]
  },
  {
   "cell_type": "code",
   "execution_count": 12,
   "metadata": {},
   "outputs": [],
   "source": [
    "iris=datasets.load_iris()\n"
   ]
  },
  {
   "cell_type": "code",
   "execution_count": 13,
   "metadata": {},
   "outputs": [],
   "source": [
    "data=pd.DataFrame(data=np.c_[iris['data'],iris['target'] ],columns=iris['feature_names']+['target'])"
   ]
  },
  {
   "cell_type": "code",
   "execution_count": 14,
   "metadata": {},
   "outputs": [
    {
     "data": {
      "text/html": [
       "<div>\n",
       "<style scoped>\n",
       "    .dataframe tbody tr th:only-of-type {\n",
       "        vertical-align: middle;\n",
       "    }\n",
       "\n",
       "    .dataframe tbody tr th {\n",
       "        vertical-align: top;\n",
       "    }\n",
       "\n",
       "    .dataframe thead th {\n",
       "        text-align: right;\n",
       "    }\n",
       "</style>\n",
       "<table border=\"1\" class=\"dataframe\">\n",
       "  <thead>\n",
       "    <tr style=\"text-align: right;\">\n",
       "      <th></th>\n",
       "      <th>sepal length (cm)</th>\n",
       "      <th>sepal width (cm)</th>\n",
       "      <th>petal length (cm)</th>\n",
       "      <th>petal width (cm)</th>\n",
       "      <th>target</th>\n",
       "    </tr>\n",
       "  </thead>\n",
       "  <tbody>\n",
       "    <tr>\n",
       "      <th>0</th>\n",
       "      <td>5.1</td>\n",
       "      <td>3.5</td>\n",
       "      <td>1.4</td>\n",
       "      <td>0.2</td>\n",
       "      <td>0.0</td>\n",
       "    </tr>\n",
       "    <tr>\n",
       "      <th>1</th>\n",
       "      <td>4.9</td>\n",
       "      <td>3.0</td>\n",
       "      <td>1.4</td>\n",
       "      <td>0.2</td>\n",
       "      <td>0.0</td>\n",
       "    </tr>\n",
       "    <tr>\n",
       "      <th>2</th>\n",
       "      <td>4.7</td>\n",
       "      <td>3.2</td>\n",
       "      <td>1.3</td>\n",
       "      <td>0.2</td>\n",
       "      <td>0.0</td>\n",
       "    </tr>\n",
       "    <tr>\n",
       "      <th>3</th>\n",
       "      <td>4.6</td>\n",
       "      <td>3.1</td>\n",
       "      <td>1.5</td>\n",
       "      <td>0.2</td>\n",
       "      <td>0.0</td>\n",
       "    </tr>\n",
       "    <tr>\n",
       "      <th>4</th>\n",
       "      <td>5.0</td>\n",
       "      <td>3.6</td>\n",
       "      <td>1.4</td>\n",
       "      <td>0.2</td>\n",
       "      <td>0.0</td>\n",
       "    </tr>\n",
       "  </tbody>\n",
       "</table>\n",
       "</div>"
      ],
      "text/plain": [
       "   sepal length (cm)  sepal width (cm)  petal length (cm)  petal width (cm)  \\\n",
       "0                5.1               3.5                1.4               0.2   \n",
       "1                4.9               3.0                1.4               0.2   \n",
       "2                4.7               3.2                1.3               0.2   \n",
       "3                4.6               3.1                1.5               0.2   \n",
       "4                5.0               3.6                1.4               0.2   \n",
       "\n",
       "   target  \n",
       "0     0.0  \n",
       "1     0.0  \n",
       "2     0.0  \n",
       "3     0.0  \n",
       "4     0.0  "
      ]
     },
     "execution_count": 14,
     "metadata": {},
     "output_type": "execute_result"
    }
   ],
   "source": [
    "data.head()\n"
   ]
  },
  {
   "cell_type": "code",
   "execution_count": 15,
   "metadata": {},
   "outputs": [],
   "source": [
    "color=['red','green','blue']"
   ]
  },
  {
   "cell_type": "code",
   "execution_count": 16,
   "metadata": {},
   "outputs": [],
   "source": [
    "data=data.iloc[:,:-1] #as the type of algorithm is unsupervised the target is not present (ie.target shows zero) so to remove\n",
    "#or delete that column iloc is used "
   ]
  },
  {
   "cell_type": "code",
   "execution_count": 17,
   "metadata": {},
   "outputs": [
    {
     "data": {
      "text/html": [
       "<div>\n",
       "<style scoped>\n",
       "    .dataframe tbody tr th:only-of-type {\n",
       "        vertical-align: middle;\n",
       "    }\n",
       "\n",
       "    .dataframe tbody tr th {\n",
       "        vertical-align: top;\n",
       "    }\n",
       "\n",
       "    .dataframe thead th {\n",
       "        text-align: right;\n",
       "    }\n",
       "</style>\n",
       "<table border=\"1\" class=\"dataframe\">\n",
       "  <thead>\n",
       "    <tr style=\"text-align: right;\">\n",
       "      <th></th>\n",
       "      <th>sepal length (cm)</th>\n",
       "      <th>sepal width (cm)</th>\n",
       "      <th>petal length (cm)</th>\n",
       "      <th>petal width (cm)</th>\n",
       "    </tr>\n",
       "  </thead>\n",
       "  <tbody>\n",
       "    <tr>\n",
       "      <th>0</th>\n",
       "      <td>5.1</td>\n",
       "      <td>3.5</td>\n",
       "      <td>1.4</td>\n",
       "      <td>0.2</td>\n",
       "    </tr>\n",
       "    <tr>\n",
       "      <th>1</th>\n",
       "      <td>4.9</td>\n",
       "      <td>3.0</td>\n",
       "      <td>1.4</td>\n",
       "      <td>0.2</td>\n",
       "    </tr>\n",
       "    <tr>\n",
       "      <th>2</th>\n",
       "      <td>4.7</td>\n",
       "      <td>3.2</td>\n",
       "      <td>1.3</td>\n",
       "      <td>0.2</td>\n",
       "    </tr>\n",
       "    <tr>\n",
       "      <th>3</th>\n",
       "      <td>4.6</td>\n",
       "      <td>3.1</td>\n",
       "      <td>1.5</td>\n",
       "      <td>0.2</td>\n",
       "    </tr>\n",
       "    <tr>\n",
       "      <th>4</th>\n",
       "      <td>5.0</td>\n",
       "      <td>3.6</td>\n",
       "      <td>1.4</td>\n",
       "      <td>0.2</td>\n",
       "    </tr>\n",
       "  </tbody>\n",
       "</table>\n",
       "</div>"
      ],
      "text/plain": [
       "   sepal length (cm)  sepal width (cm)  petal length (cm)  petal width (cm)\n",
       "0                5.1               3.5                1.4               0.2\n",
       "1                4.9               3.0                1.4               0.2\n",
       "2                4.7               3.2                1.3               0.2\n",
       "3                4.6               3.1                1.5               0.2\n",
       "4                5.0               3.6                1.4               0.2"
      ]
     },
     "execution_count": 17,
     "metadata": {},
     "output_type": "execute_result"
    }
   ],
   "source": [
    "data.head()\n"
   ]
  },
  {
   "cell_type": "code",
   "execution_count": 18,
   "metadata": {},
   "outputs": [
    {
     "data": {
      "text/plain": [
       "(150, 4)"
      ]
     },
     "execution_count": 18,
     "metadata": {},
     "output_type": "execute_result"
    }
   ],
   "source": [
    "data.shape\n"
   ]
  },
  {
   "cell_type": "code",
   "execution_count": 19,
   "metadata": {},
   "outputs": [],
   "source": [
    "from sklearn.cluster import KMeans"
   ]
  },
  {
   "cell_type": "code",
   "execution_count": 20,
   "metadata": {},
   "outputs": [
    {
     "data": {
      "text/plain": [
       "KMeans(algorithm='auto', copy_x=True, init='k-means++', max_iter=300,\n",
       "    n_clusters=3, n_init=10, n_jobs=None, precompute_distances='auto',\n",
       "    random_state=None, tol=0.0001, verbose=0)"
      ]
     },
     "execution_count": 20,
     "metadata": {},
     "output_type": "execute_result"
    }
   ],
   "source": [
    "model=KMeans(n_clusters=3)\n",
    "model.fit(data.iloc[:,2:])\n"
   ]
  },
  {
   "cell_type": "code",
   "execution_count": 21,
   "metadata": {},
   "outputs": [],
   "source": [
    "a=model.cluster_centers_"
   ]
  },
  {
   "cell_type": "code",
   "execution_count": 22,
   "metadata": {},
   "outputs": [
    {
     "data": {
      "text/plain": [
       "(150, 4)"
      ]
     },
     "execution_count": 22,
     "metadata": {},
     "output_type": "execute_result"
    }
   ],
   "source": [
    "data.shape  #shape: A shape tuple (integer), not including the batch size. \n",
    "#For instance, shape=(32,) indicates that the expected input will \n",
    "#be batches of 32-dimensional vectors.\n"
   ]
  },
  {
   "cell_type": "code",
   "execution_count": 23,
   "metadata": {},
   "outputs": [
    {
     "data": {
      "text/plain": [
       "array([[5.59583333, 2.0375    ],\n",
       "       [1.462     , 0.246     ],\n",
       "       [4.26923077, 1.34230769]])"
      ]
     },
     "execution_count": 23,
     "metadata": {},
     "output_type": "execute_result"
    }
   ],
   "source": [
    "a"
   ]
  },
  {
   "cell_type": "code",
   "execution_count": 24,
   "metadata": {},
   "outputs": [
    {
     "data": {
      "image/png": "[encoded data removed]",
      "text/plain": [
       "<Figure size 432x288 with 1 Axes>"
      ]
     },
     "metadata": {
      "needs_background": "light"
     },
     "output_type": "display_data"
    }
   ],
   "source": [
    "plt.scatter(data.iloc[:,2],data.iloc[:,3],s=40,c=model.labels_)#\n",
    "plt.scatter(a[:,0],a[:,1],marker='x',color='r',s=150)\n",
    "plt.show()"
   ]
  },
  {
   "cell_type": "code",
   "execution_count": 25,
   "metadata": {},
   "outputs": [],
   "source": [
    "#EVENING SESSION TENSORFLOW\n",
    "import tensorflow as tf \n",
    "from tensorflow import keras\n",
    "import numpy as np\n",
    "import matplotlib.pyplot as plt"
   ]
  },
  {
   "cell_type": "code",
   "execution_count": 26,
   "metadata": {},
   "outputs": [],
   "source": [
    "mnist=keras.datasets.mnist"
   ]
  },
  {
   "cell_type": "code",
   "execution_count": 27,
   "metadata": {},
   "outputs": [],
   "source": [
    "(train_images,train_labels),(test_images,test_labels)=mnist.load_data()"
   ]
  },
  {
   "cell_type": "code",
   "execution_count": 28,
   "metadata": {},
   "outputs": [
    {
     "data": {
      "text/plain": [
       "5"
      ]
     },
     "execution_count": 28,
     "metadata": {},
     "output_type": "execute_result"
    }
   ],
   "source": [
    "train_labels[0]"
   ]
  },
  {
   "cell_type": "code",
   "execution_count": 29,
   "metadata": {},
   "outputs": [
    {
     "data": {
      "text/plain": [
       "array([[  0,   0,   0,   0,   0,   0,   0,   0,   0,   0,   0,   0,   0,\n",
       "          0,   0,   0,   0,   0,   0,   0,   0,   0,   0,   0,   0,   0,\n",
       "          0,   0],\n",
       "       [  0,   0,   0,   0,   0,   0,   0,   0,   0,   0,   0,   0,   0,\n",
       "          0,   0,   0,   0,   0,   0,   0,   0,   0,   0,   0,   0,   0,\n",
       "          0,   0],\n",
       "       [  0,   0,   0,   0,   0,   0,   0,   0,   0,   0,   0,   0,   0,\n",
       "          0,   0,   0,   0,   0,   0,   0,   0,   0,   0,   0,   0,   0,\n",
       "          0,   0],\n",
       "       [  0,   0,   0,   0,   0,   0,   0,   0,   0,   0,   0,   0,   0,\n",
       "          0,   0,   0,   0,   0,   0,   0,   0,   0,   0,   0,   0,   0,\n",
       "          0,   0],\n",
       "       [  0,   0,   0,   0,   0,   0,   0,   0,   0,   0,   0,   0,   0,\n",
       "          0,   0,   0,   0,   0,   0,   0,   0,   0,   0,   0,   0,   0,\n",
       "          0,   0],\n",
       "       [  0,   0,   0,   0,   0,   0,   0,   0,   0,   0,   0,   0,   3,\n",
       "         18,  18,  18, 126, 136, 175,  26, 166, 255, 247, 127,   0,   0,\n",
       "          0,   0],\n",
       "       [  0,   0,   0,   0,   0,   0,   0,   0,  30,  36,  94, 154, 170,\n",
       "        253, 253, 253, 253, 253, 225, 172, 253, 242, 195,  64,   0,   0,\n",
       "          0,   0],\n",
       "       [  0,   0,   0,   0,   0,   0,   0,  49, 238, 253, 253, 253, 253,\n",
       "        253, 253, 253, 253, 251,  93,  82,  82,  56,  39,   0,   0,   0,\n",
       "          0,   0],\n",
       "       [  0,   0,   0,   0,   0,   0,   0,  18, 219, 253, 253, 253, 253,\n",
       "        253, 198, 182, 247, 241,   0,   0,   0,   0,   0,   0,   0,   0,\n",
       "          0,   0],\n",
       "       [  0,   0,   0,   0,   0,   0,   0,   0,  80, 156, 107, 253, 253,\n",
       "        205,  11,   0,  43, 154,   0,   0,   0,   0,   0,   0,   0,   0,\n",
       "          0,   0],\n",
       "       [  0,   0,   0,   0,   0,   0,   0,   0,   0,  14,   1, 154, 253,\n",
       "         90,   0,   0,   0,   0,   0,   0,   0,   0,   0,   0,   0,   0,\n",
       "          0,   0],\n",
       "       [  0,   0,   0,   0,   0,   0,   0,   0,   0,   0,   0, 139, 253,\n",
       "        190,   2,   0,   0,   0,   0,   0,   0,   0,   0,   0,   0,   0,\n",
       "          0,   0],\n",
       "       [  0,   0,   0,   0,   0,   0,   0,   0,   0,   0,   0,  11, 190,\n",
       "        253,  70,   0,   0,   0,   0,   0,   0,   0,   0,   0,   0,   0,\n",
       "          0,   0],\n",
       "       [  0,   0,   0,   0,   0,   0,   0,   0,   0,   0,   0,   0,  35,\n",
       "        241, 225, 160, 108,   1,   0,   0,   0,   0,   0,   0,   0,   0,\n",
       "          0,   0],\n",
       "       [  0,   0,   0,   0,   0,   0,   0,   0,   0,   0,   0,   0,   0,\n",
       "         81, 240, 253, 253, 119,  25,   0,   0,   0,   0,   0,   0,   0,\n",
       "          0,   0],\n",
       "       [  0,   0,   0,   0,   0,   0,   0,   0,   0,   0,   0,   0,   0,\n",
       "          0,  45, 186, 253, 253, 150,  27,   0,   0,   0,   0,   0,   0,\n",
       "          0,   0],\n",
       "       [  0,   0,   0,   0,   0,   0,   0,   0,   0,   0,   0,   0,   0,\n",
       "          0,   0,  16,  93, 252, 253, 187,   0,   0,   0,   0,   0,   0,\n",
       "          0,   0],\n",
       "       [  0,   0,   0,   0,   0,   0,   0,   0,   0,   0,   0,   0,   0,\n",
       "          0,   0,   0,   0, 249, 253, 249,  64,   0,   0,   0,   0,   0,\n",
       "          0,   0],\n",
       "       [  0,   0,   0,   0,   0,   0,   0,   0,   0,   0,   0,   0,   0,\n",
       "          0,  46, 130, 183, 253, 253, 207,   2,   0,   0,   0,   0,   0,\n",
       "          0,   0],\n",
       "       [  0,   0,   0,   0,   0,   0,   0,   0,   0,   0,   0,   0,  39,\n",
       "        148, 229, 253, 253, 253, 250, 182,   0,   0,   0,   0,   0,   0,\n",
       "          0,   0],\n",
       "       [  0,   0,   0,   0,   0,   0,   0,   0,   0,   0,  24, 114, 221,\n",
       "        253, 253, 253, 253, 201,  78,   0,   0,   0,   0,   0,   0,   0,\n",
       "          0,   0],\n",
       "       [  0,   0,   0,   0,   0,   0,   0,   0,  23,  66, 213, 253, 253,\n",
       "        253, 253, 198,  81,   2,   0,   0,   0,   0,   0,   0,   0,   0,\n",
       "          0,   0],\n",
       "       [  0,   0,   0,   0,   0,   0,  18, 171, 219, 253, 253, 253, 253,\n",
       "        195,  80,   9,   0,   0,   0,   0,   0,   0,   0,   0,   0,   0,\n",
       "          0,   0],\n",
       "       [  0,   0,   0,   0,  55, 172, 226, 253, 253, 253, 253, 244, 133,\n",
       "         11,   0,   0,   0,   0,   0,   0,   0,   0,   0,   0,   0,   0,\n",
       "          0,   0],\n",
       "       [  0,   0,   0,   0, 136, 253, 253, 253, 212, 135, 132,  16,   0,\n",
       "          0,   0,   0,   0,   0,   0,   0,   0,   0,   0,   0,   0,   0,\n",
       "          0,   0],\n",
       "       [  0,   0,   0,   0,   0,   0,   0,   0,   0,   0,   0,   0,   0,\n",
       "          0,   0,   0,   0,   0,   0,   0,   0,   0,   0,   0,   0,   0,\n",
       "          0,   0],\n",
       "       [  0,   0,   0,   0,   0,   0,   0,   0,   0,   0,   0,   0,   0,\n",
       "          0,   0,   0,   0,   0,   0,   0,   0,   0,   0,   0,   0,   0,\n",
       "          0,   0],\n",
       "       [  0,   0,   0,   0,   0,   0,   0,   0,   0,   0,   0,   0,   0,\n",
       "          0,   0,   0,   0,   0,   0,   0,   0,   0,   0,   0,   0,   0,\n",
       "          0,   0]], dtype=uint8)"
      ]
     },
     "execution_count": 29,
     "metadata": {},
     "output_type": "execute_result"
    }
   ],
   "source": [
    "train_images[0]"
   ]
  },
  {
   "cell_type": "code",
   "execution_count": 30,
   "metadata": {},
   "outputs": [
    {
     "data": {
      "image/png": "[encoded data removed]",
      "text/plain": [
       "<Figure size 432x288 with 2 Axes>"
      ]
     },
     "metadata": {
      "needs_background": "light"
     },
     "output_type": "display_data"
    }
   ],
   "source": [
    "plt.figure()\n",
    "plt.imshow(train_images[0],plt.cm.binary) #change 0 to say any number\n",
    "plt.colorbar() #0to 5999\n",
    "plt.grid(False)            "
   ]
  },
  {
   "cell_type": "code",
   "execution_count": 31,
   "metadata": {},
   "outputs": [],
   "source": [
    "#NORMALIZATION\n",
    "train_images =train_images/255.0\n",
    "test_images  =test_images/255.0"
   ]
  },
  {
   "cell_type": "code",
   "execution_count": 32,
   "metadata": {},
   "outputs": [
    {
     "data": {
      "image/png": "[encoded data removed]",
      "text/plain": [
       "<Figure size 720x720 with 25 Axes>"
      ]
     },
     "metadata": {},
     "output_type": "display_data"
    }
   ],
   "source": [
    "plt.figure(figsize=(10,10))\n",
    "for i in range(25):\n",
    "    plt.subplot(5,5,i+1)\n",
    "    plt.xticks([])\n",
    "    plt.yticks([])\n",
    "    plt.grid(False)\n",
    "    plt.imshow(train_images[i],cmap=plt.cm.binary)\n",
    "    plt.xlabel(train_labels[i])"
   ]
  },
  {
   "cell_type": "code",
   "execution_count": 42,
   "metadata": {},
   "outputs": [],
   "source": [
    "model = keras.Sequential([keras.layers.Flatten(input_shape=(28,28)),\n",
    "                          keras.layers.Dense(256,activation=tf.nn.relu),\n",
    "                          keras.layers.Dense(128,activation=tf.nn.relu),\n",
    "                          keras.layers.Dense(10,activation=tf.nn.softmax)])\n",
    "#The core data structure of Keras is a model, a way to organize layers. \n",
    "#The simplest type of model is the Sequential model, a linear stack of layers\n",
    "#Dense implements the operation: output = activation(dot(input, kernel) + bias) \n",
    "#where activation is the element-wise activation function passed as the activation argument,\n",
    "#kernel is a weights matrix created by the layer, and bias is a bias vector created by the \n",
    "#layer (only applicable if use_bias is True).\n"
   ]
  },
  {
   "cell_type": "code",
   "execution_count": 36,
   "metadata": {},
   "outputs": [],
   "source": [
    "model.compile(optimizer=tf.train.AdamOptimizer(),\n",
    "             loss='sparse_categorical_crossentropy',\n",
    "             metrics=['accuracy'])\n",
    "tb_callback=keras.callbacks.TensorBoard(log_dir='./Graph',histogram_freq=0,write_graph=True,write_images=True)"
   ]
  },
  {
   "cell_type": "code",
   "execution_count": 37,
   "metadata": {},
   "outputs": [
    {
     "name": "stdout",
     "output_type": "stream",
     "text": [
      "_________________________________________________________________\n",
      "Layer (type)                 Output Shape              Param #   \n",
      "=================================================================\n",
      "flatten_2 (Flatten)          (None, 784)               0         \n",
      "_________________________________________________________________\n",
      "dense (Dense)                (None, 256)               200960    \n",
      "_________________________________________________________________\n",
      "dense_1 (Dense)              (None, 128)               32896     \n",
      "_________________________________________________________________\n",
      "dense_2 (Dense)              (None, 10)                1290      \n",
      "=================================================================\n",
      "Total params: 235,146\n",
      "Trainable params: 235,146\n",
      "Non-trainable params: 0\n",
      "_________________________________________________________________\n",
      "None\n"
     ]
    }
   ],
   "source": [
    "print(model.summary())"
   ]
  },
  {
   "cell_type": "code",
   "execution_count": 38,
   "metadata": {},
   "outputs": [
    {
     "name": "stdout",
     "output_type": "stream",
     "text": [
      "Train on 60000 samples, validate on 10000 samples\n",
      "Epoch 1/20\n",
      "60000/60000 [==============================] - 77s 1ms/step - loss: 0.2027 - acc: 0.9398 - val_loss: 0.1104 - val_acc: 0.9665\n",
      "Epoch 2/20\n",
      "56736/60000 [===========================>..] - ETA: 4s - loss: 0.0857 - acc: 0.9735WARNING:tensorflow:Method on_batch_end() is slow compared to the batch update (0.105151). Check your callbacks.\n",
      "58976/60000 [============================>.] - ETA: 1s - loss: 0.0852 - acc: 0.9736- ETA: 2s WARNING:tensorflow:Method on_batch_end() is slow compared to the batch update (0.117182). Check your callbacks.\n",
      "60000/60000 [==============================] - 83s 1ms/step - loss: 0.0848 - acc: 0.9737 - val_loss: 0.0825 - val_acc: 0.9756\n",
      "Epoch 3/20\n",
      "60000/60000 [==============================] - 112s 2ms/step - loss: 0.0591 - acc: 0.9807 - val_loss: 0.0734 - val_acc: 0.9780\n",
      "Epoch 4/20\n",
      "60000/60000 [==============================] - 114s 2ms/step - loss: 0.0446 - acc: 0.9859 - val_loss: 0.0638 - val_acc: 0.9816\n",
      "Epoch 5/20\n",
      "60000/60000 [==============================] - 112s 2ms/step - loss: 0.0337 - acc: 0.9885 - val_loss: 0.0865 - val_acc: 0.9761\n",
      "Epoch 6/20\n",
      "60000/60000 [==============================] - 111s 2ms/step - loss: 0.0298 - acc: 0.9898 - val_loss: 0.0726 - val_acc: 0.9811\n",
      "Epoch 7/20\n",
      "60000/60000 [==============================] - 106s 2ms/step - loss: 0.0243 - acc: 0.9923 - val_loss: 0.0777 - val_acc: 0.9788\n",
      "Epoch 8/20\n",
      "60000/60000 [==============================] - 110s 2ms/step - loss: 0.0204 - acc: 0.9933 - val_loss: 0.0711 - val_acc: 0.9819\n",
      "Epoch 9/20\n",
      "60000/60000 [==============================] - 113s 2ms/step - loss: 0.0193 - acc: 0.9937 - val_loss: 0.0996 - val_acc: 0.9763\n",
      "Epoch 10/20\n",
      "   64/60000 [..............................] - ETA: 20:58 - loss: 0.0149 - acc: 0.9844    WARNING:tensorflow:Method on_batch_end() is slow compared to the batch update (0.663924). Check your callbacks.\n",
      "16224/60000 [=======>......................] - ETA: 1:31 - loss: 0.0134 - acc: 0.9956WARNING:tensorflow:Method on_batch_end() is slow compared to the batch update (0.109382). Check your callbacks.\n",
      "16256/60000 [=======>......................] - ETA: 1:31 - loss: 0.0133 - acc: 0.9956WARNING:tensorflow:Method on_batch_end() is slow compared to the batch update (0.140597). Check your callbacks.\n",
      "16320/60000 [=======>......................] - ETA: 1:32 - loss: 0.0133 - acc: 0.9956WARNING:tensorflow:Method on_batch_end() is slow compared to the batch update (0.148517). Check your callbacks.\n",
      "16384/60000 [=======>......................] - ETA: 1:32 - loss: 0.0134 - acc: 0.9955WARNING:tensorflow:Method on_batch_end() is slow compared to the batch update (0.164111). Check your callbacks.\n",
      "16416/60000 [=======>......................] - ETA: 1:32 - loss: 0.0134 - acc: 0.9955WARNING:tensorflow:Method on_batch_end() is slow compared to the batch update (0.164111). Check your callbacks.\n",
      "16448/60000 [=======>......................] - ETA: 1:33 - loss: 0.0134 - acc: 0.9955WARNING:tensorflow:Method on_batch_end() is slow compared to the batch update (0.156302). Check your callbacks.\n",
      "16480/60000 [=======>......................] - ETA: 1:33 - loss: 0.0134 - acc: 0.9955WARNING:tensorflow:Method on_batch_end() is slow compared to the batch update (0.148430). Check your callbacks.\n",
      "WARNING:tensorflow:Method on_batch_end() is slow compared to the batch update (0.140638). Check your callbacks.\n",
      "16544/60000 [=======>......................] - ETA: 1:32 - loss: 0.0134 - acc: 0.9955WARNING:tensorflow:Method on_batch_end() is slow compared to the batch update (0.140616). Check your callbacks.\n",
      "60000/60000 [==============================] - 116s 2ms/step - loss: 0.0177 - acc: 0.9944 - val_loss: 0.0870 - val_acc: 0.9822\n",
      "Epoch 11/20\n",
      "45920/60000 [=====================>........] - ETA: 26s - loss: 0.0126 - acc: 0.9957WARNING:tensorflow:Method on_batch_end() is slow compared to the batch update (0.156250). Check your callbacks.\n",
      "45984/60000 [=====================>........] - ETA: 26s - loss: 0.0126 - acc: 0.9957WARNING:tensorflow:Method on_batch_end() is slow compared to the batch update (0.164065). Check your callbacks.\n",
      "46016/60000 [======================>.......] - ETA: 26s - loss: 0.0127 - acc: 0.9957WARNING:tensorflow:Method on_batch_end() is slow compared to the batch update (0.156271). Check your callbacks.\n",
      "46144/60000 [======================>.......] - ETA: 25s - loss: 0.0127 - acc: 0.9957WARNING:tensorflow:Method on_batch_end() is slow compared to the batch update (0.140627). Check your callbacks.\n",
      "46176/60000 [======================>.......] - ETA: 25s - loss: 0.0127 - acc: 0.9957WARNING:tensorflow:Method on_batch_end() is slow compared to the batch update (0.109382). Check your callbacks.\n",
      "47392/60000 [======================>.......] - ETA: 24s - loss: 0.0131 - acc: 0.9956WARNING:tensorflow:Method on_batch_end() is slow compared to the batch update (0.148406). Check your callbacks.\n",
      "49184/60000 [=======================>......] - ETA: 20s - loss: 0.0134 - acc: 0.9956WARNING:tensorflow:Method on_batch_end() is slow compared to the batch update (0.110518). Check your callbacks.\n",
      "60000/60000 [==============================] - 116s 2ms/step - loss: 0.0147 - acc: 0.9952 - val_loss: 0.1029 - val_acc: 0.9776\n",
      "Epoch 12/20\n",
      "60000/60000 [==============================] - 101s 2ms/step - loss: 0.0148 - acc: 0.9954 - val_loss: 0.0877 - val_acc: 0.9817\n",
      "Epoch 13/20\n",
      "60000/60000 [==============================] - 129s 2ms/step - loss: 0.0133 - acc: 0.9960 - val_loss: 0.1021 - val_acc: 0.9811\n",
      "Epoch 14/20\n",
      "60000/60000 [==============================] - 132s 2ms/step - loss: 0.0124 - acc: 0.9961 - val_loss: 0.0982 - val_acc: 0.9807\n",
      "Epoch 15/20\n",
      "60000/60000 [==============================] - 128s 2ms/step - loss: 0.0129 - acc: 0.9961 - val_loss: 0.0951 - val_acc: 0.9812\n",
      "Epoch 16/20\n",
      "   32/60000 [..............................] - ETA: 35:15 - loss: 9.3347e-05 - acc: 1.0000WARNING:tensorflow:Method on_batch_end() is slow compared to the batch update (1.105747). Check your callbacks.\n",
      "   64/60000 [..............................] - ETA: 18:53 - loss: 0.0105 - acc: 1.0000    WARNING:tensorflow:Method on_batch_end() is slow compared to the batch update (0.580757). Check your callbacks.\n",
      "60000/60000 [==============================] - 117s 2ms/step - loss: 0.0108 - acc: 0.9966 - val_loss: 0.0939 - val_acc: 0.9829\n",
      "Epoch 17/20\n",
      "60000/60000 [==============================] - 135s 2ms/step - loss: 0.0114 - acc: 0.9967 - val_loss: 0.1131 - val_acc: 0.9794\n",
      "Epoch 18/20\n",
      "60000/60000 [==============================] - 141s 2ms/step - loss: 0.0101 - acc: 0.9968 - val_loss: 0.1020 - val_acc: 0.9822\n",
      "Epoch 19/20\n",
      "36800/60000 [=================>............] - ETA: 57s - loss: 0.0104 - acc: 0.9967WARNING:tensorflow:Method on_batch_end() is slow compared to the batch update (0.103048). Check your callbacks.\n",
      "37376/60000 [=================>............] - ETA: 56s - loss: 0.0107 - acc: 0.9966WARNING:tensorflow:Method on_batch_end() is slow compared to the batch update (0.102530). Check your callbacks.\n",
      "37408/60000 [=================>............] - ETA: 56s - loss: 0.0107 - acc: 0.9966WARNING:tensorflow:Method on_batch_end() is slow compared to the batch update (0.102530). Check your callbacks.\n",
      "37440/60000 [=================>............] - ETA: 56s - loss: 0.0107 - acc: 0.9966WARNING:tensorflow:Method on_batch_end() is slow compared to the batch update (0.102530). Check your callbacks.\n",
      "37472/60000 [=================>............] - ETA: 56s - loss: 0.0107 - acc: 0.9966WARNING:tensorflow:Method on_batch_end() is slow compared to the batch update (0.102530). Check your callbacks.\n",
      "37504/60000 [=================>............] - ETA: 56s - loss: 0.0107 - acc: 0.9966WARNING:tensorflow:Method on_batch_end() is slow compared to the batch update (0.102530). Check your callbacks.\n",
      "37536/60000 [=================>............] - ETA: 56s - loss: 0.0107 - acc: 0.9966WARNING:tensorflow:Method on_batch_end() is slow compared to the batch update (0.101904). Check your callbacks.\n",
      "60000/60000 [==============================] - 152s 3ms/step - loss: 0.0124 - acc: 0.9963 - val_loss: 0.1095 - val_acc: 0.9803\n",
      "Epoch 20/20\n",
      "   64/60000 [..............................] - ETA: 18:26 - loss: 0.0216 - acc: 0.9844WARNING:tensorflow:Method on_batch_end() is slow compared to the batch update (0.574844). Check your callbacks.\n",
      "60000/60000 [==============================] - 137s 2ms/step - loss: 0.0081 - acc: 0.9975 - val_loss: 0.1268 - val_acc: 0.9811\n"
     ]
    },
    {
     "data": {
      "text/plain": [
       "<tensorflow.python.keras.callbacks.History at 0x148defcdfd0>"
      ]
     },
     "execution_count": 38,
     "metadata": {},
     "output_type": "execute_result"
    }
   ],
   "source": [
    "model.fit(train_images,train_labels,epochs=20,callbacks=[tb_callback], validation_data=[test_images,test_labels])"
   ]
  },
  {
   "cell_type": "code",
   "execution_count": 43,
   "metadata": {},
   "outputs": [],
   "source": [
    "predictions = model.predict(test_images)"
   ]
  },
  {
   "cell_type": "code",
   "execution_count": 4,
   "metadata": {
    "scrolled": true
   },
   "outputs": [
    {
     "ename": "NameError",
     "evalue": "name 'predictions' is not defined",
     "output_type": "error",
     "traceback": [
      "\u001b[1;31m---------------------------------------------------------------------------\u001b[0m",
      "\u001b[1;31mNameError\u001b[0m                                 Traceback (most recent call last)",
      "\u001b[1;32m<ipython-input-4-add2a53d3192>\u001b[0m in \u001b[0;36m<module>\u001b[1;34m\u001b[0m\n\u001b[1;32m----> 1\u001b[1;33m \u001b[0mpredictions\u001b[0m\u001b[1;33m[\u001b[0m\u001b[1;36m0\u001b[0m\u001b[1;33m]\u001b[0m\u001b[1;33m;\u001b[0m\u001b[1;33m\u001b[0m\u001b[0m\n\u001b[0m",
      "\u001b[1;31mNameError\u001b[0m: name 'predictions' is not defined"
     ]
    }
   ],
   "source": [
    "predictions[0];"
   ]
  },
  {
   "cell_type": "code",
   "execution_count": null,
   "metadata": {},
   "outputs": [],
   "source": []
  },
  {
   "cell_type": "code",
   "execution_count": null,
   "metadata": {},
   "outputs": [],
   "source": []
  }
 ],
 "metadata": {
  "kernelspec": {
   "display_name": "Python 3",
   "language": "python",
   "name": "python3"
  },
  "language_info": {
   "codemirror_mode": {
    "name": "ipython",
    "version": 3
   },
   "file_extension": ".py",
   "mimetype": "text/x-python",
   "name": "python",
   "nbconvert_exporter": "python",
   "pygments_lexer": "ipython3",
   "version": "3.6.6"
  }
 },
 "nbformat": 4,
 "nbformat_minor": 2
}
